{
 "cells": [
  {
   "cell_type": "markdown",
   "id": "220f9acd-e1ce-4b3c-930f-6677f7b5872f",
   "metadata": {},
   "source": [
    "## CIAP Workshop - Simple plot with uploaded data\n",
    "\n",
    "- We will upload a `pre-existing` csv file into the CIAP with the drag and drop feature.\n",
    "- We will read the file and inspect it.\n",
    "- Then create a simple plot.\n"
   ]
  },
  {
   "cell_type": "markdown",
   "id": "0dfa1fbb-b36a-469c-b9e2-d324386e66da",
   "metadata": {},
   "source": [
    "### load R packages"
   ]
  },
  {
   "cell_type": "code",
   "execution_count": null,
   "id": "53f5aba7-c318-499c-85a6-0eafcd6d9879",
   "metadata": {},
   "outputs": [],
   "source": [
    "library(ggplot2)"
   ]
  },
  {
   "cell_type": "markdown",
   "id": "c0f0bed8-a835-4617-908d-f2f9479e7f1b",
   "metadata": {},
   "source": [
    "### Reading data\n",
    "Reading \"local\" data. Create dataframe and look at the first 5 entries.\n",
    "> Note: Local data in this context means local to the CIAP as in the data has been already loaded.\n"
   ]
  },
  {
   "cell_type": "code",
   "execution_count": null,
   "id": "b8d1aaa7-b62c-4135-8732-aa2fc3871b78",
   "metadata": {},
   "outputs": [],
   "source": [
    "pheno_df <- read.csv(\"phenotype_test_data_workshop.csv\")\n",
    "pheno_df |> head(5)"
   ]
  },
  {
   "cell_type": "markdown",
   "id": "9d354b08-d230-4c3e-ba4c-0212969383ce",
   "metadata": {},
   "source": [
    "### Phenotype Data Visualization"
   ]
  },
  {
   "cell_type": "code",
   "execution_count": null,
   "id": "1f3f9128-8895-4713-993a-3a913ff4774b",
   "metadata": {},
   "outputs": [],
   "source": [
    "# Create the histogram for Dpoll\n",
    "pheno_df |> ggplot() +\n",
    "  aes(Dpoll) +\n",
    "  geom_histogram(fill = \"green\", bins = 30) +\n",
    "  labs(title = \"Days to Pollination\") +\n",
    "  theme_minimal()"
   ]
  },
  {
   "cell_type": "code",
   "execution_count": null,
   "id": "a03cab65-87f3-4c5b-a937-88c88594352b",
   "metadata": {},
   "outputs": [],
   "source": [
    "# Now we will try this using a database...."
   ]
  }
 ],
 "metadata": {
  "kernelspec": {
   "display_name": "R",
   "language": "R",
   "name": "ir"
  },
  "language_info": {
   "codemirror_mode": "r",
   "file_extension": ".r",
   "mimetype": "text/x-r-source",
   "name": "R",
   "pygments_lexer": "r",
   "version": "4.2.3"
  }
 },
 "nbformat": 4,
 "nbformat_minor": 5
}
