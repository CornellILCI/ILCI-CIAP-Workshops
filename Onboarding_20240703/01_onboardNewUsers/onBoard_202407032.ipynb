{
 "cells": [
  {
   "cell_type": "markdown",
   "id": "dfc5b90d-bf4b-48aa-ae2d-d019e61e48c0",
   "metadata": {},
   "source": [
    "# My project title"
   ]
  },
  {
   "cell_type": "markdown",
   "id": "add736b1-851b-4168-88cb-445af1c86633",
   "metadata": {},
   "source": [
    "## 1. Markdown"
   ]
  },
  {
   "cell_type": "markdown",
   "id": "b2e4e40e-1913-476c-9d67-ecd70afe01fb",
   "metadata": {},
   "source": [
    "Use **Markdown syntax** to create documentation in your notebook, including a bulleted outline:"
   ]
  },
  {
   "cell_type": "markdown",
   "id": "b01b4b08-c815-4401-be22-8a0d13187c24",
   "metadata": {},
   "source": [
    "- Hypothesis \n",
    "- Raw data \n",
    "    - source\n",
    "    - description\n",
    "- Libraries\n",
    "- Analysis "
   ]
  },
  {
   "cell_type": "markdown",
   "id": "045c8e52-f9f7-45b4-bdda-c7d4932f647c",
   "metadata": {},
   "source": [
    "More about Markdown syntax [here](https://www.markdownguide.org/basic-syntax/) "
   ]
  },
  {
   "cell_type": "markdown",
   "id": "317658e7-c71c-4009-821f-1cea3fa9af63",
   "metadata": {},
   "source": [
    "## 2. Code"
   ]
  },
  {
   "cell_type": "markdown",
   "id": "57b05372-115c-4ea1-b14c-65926900509f",
   "metadata": {},
   "source": [
    "Use R code just as you would in your R console or in RStudio:"
   ]
  },
  {
   "cell_type": "code",
   "execution_count": null,
   "id": "06879e13-df7f-40ec-ad83-de353b575861",
   "metadata": {},
   "outputs": [],
   "source": [
    "Sys.Date()"
   ]
  },
  {
   "cell_type": "markdown",
   "id": "812a6e2e-a0f5-4ebb-be6f-48154c54c8f5",
   "metadata": {},
   "source": [
    "Load a library:"
   ]
  },
  {
   "cell_type": "code",
   "execution_count": null,
   "id": "7858ccfa-5c26-40d0-94f5-350a1f8d4c22",
   "metadata": {},
   "outputs": [],
   "source": [
    "library(ggplot2)"
   ]
  },
  {
   "cell_type": "markdown",
   "id": "3c69900e-0e60-4583-a1ce-f5be94487018",
   "metadata": {},
   "source": [
    "Create a dataset:"
   ]
  },
  {
   "cell_type": "code",
   "execution_count": null,
   "id": "d308b2c9-8c90-4ed8-ab48-f24fe79f4446",
   "metadata": {},
   "outputs": [],
   "source": [
    "example <- rnorm(500) |> as.data.frame()"
   ]
  },
  {
   "cell_type": "code",
   "execution_count": null,
   "id": "d6858435-2af5-4fe2-8dce-ccea91fd55a5",
   "metadata": {},
   "outputs": [],
   "source": [
    "example |> head()"
   ]
  },
  {
   "cell_type": "markdown",
   "id": "74dffd29-7ed8-44b2-9071-0138e6dc4379",
   "metadata": {},
   "source": [
    "Visualize: "
   ]
  },
  {
   "cell_type": "code",
   "execution_count": null,
   "id": "cc25f175-0d94-4331-88de-5abea8ce3e0b",
   "metadata": {},
   "outputs": [],
   "source": [
    "example |> ggplot(aes(x=rnorm(500))) +\n",
    "geom_histogram(\n",
    "    bins = 15)"
   ]
  }
 ],
 "metadata": {
  "kernelspec": {
   "display_name": "R",
   "language": "R",
   "name": "ir"
  },
  "language_info": {
   "codemirror_mode": "r",
   "file_extension": ".r",
   "mimetype": "text/x-r-source",
   "name": "R",
   "pygments_lexer": "r",
   "version": "4.2.3"
  }
 },
 "nbformat": 4,
 "nbformat_minor": 5
}
